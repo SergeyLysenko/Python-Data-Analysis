import pandas as pd
from io import StringIO

# Sample data provided
data = """
type_,date_,user_id,country,platform,active,amount
paid,2022-11-25,0xE65E8C456FA5155538A09C5BE3201C47306CB0E9,Chile,web,1,2.37
paid,2023-10-29,0xE44DC3DAC32888D9476B9CF6DB666285D40CCDD0,Mexico,web,1,2.15
paid,2023-10-29,0xBA462030C67FE1CDFFDDF747C0BA775C7FF86C11,Mexico,web,1,2.15
paid,2023-10-29,0x4284CDB3BC053C8647C31D166B439376D6FF421C,Mexico,web,1,2.15
paid,2022-09-26,0x0E2D930133EFE81F46E2B80D7B4516887F55BDBC,Chile,web,1,2.07
paid,2022-02-05,0x97CBA3C57293963C5DC5F1EA96EC4138E7A3AE23,Mexico,web,1,4.42
paid,2022-02-05,0x5EA13C4FA0297EE713E6D0593E5FC2EBC216B669,Chile,web,1,2.4
"""

# Creating a DataFrame
df = pd.read_csv(StringIO(data))
df['date_'] = pd.to_datetime(df['date_'])

df.head()

